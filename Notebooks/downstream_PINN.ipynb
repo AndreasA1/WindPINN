{
 "cells": [
  {
   "cell_type": "markdown",
   "id": "19a678da",
   "metadata": {},
   "source": [
    "PINN to predict downstream flow"
   ]
  },
  {
   "cell_type": "code",
   "execution_count": null,
   "id": "15ecfe3a",
   "metadata": {},
   "outputs": [],
   "source": [
    "# libraries\n",
    "import numpy as np\n",
    "import deepxde as dde\n",
    "\n"
   ]
  },
  {
   "cell_type": "code",
   "execution_count": null,
   "id": "a553631b",
   "metadata": {},
   "outputs": [],
   "source": [
    "# import data reading functions\n",
    "from read_bin.py import \n",
    "\n",
    "# take in data, splot into training and testing\n",
    "# all of these are Nx by Ny by Nz\n",
    "data_u, data_v, data_w = blah()"
   ]
  },
  {
   "cell_type": "code",
   "execution_count": null,
   "id": "022456bf",
   "metadata": {},
   "outputs": [],
   "source": [
    "# PDE to learn: NS equations\n",
    "def pde(x, y):\n",
    "\n",
    "    return lhs - rhs\n",
    "\n",
    "# no regular boundary or initial conditions\n",
    "# apply data as point set BC\n",
    "\n"
   ]
  },
  {
   "cell_type": "code",
   "execution_count": null,
   "id": "ed46a6fa",
   "metadata": {},
   "outputs": [],
   "source": [
    "#setup model\n",
    "#geometery and bc\n",
    "geom = dde.geometry.Rectangle([-1, 1], [-1, 1])\n",
    "\n",
    "#data\n",
    "num_train = 16\n",
    "num_train_bound = 1\n",
    "data = dde.data.PDE(geom, pde, [], num_train, num_train_bound, anchors = , num_test=100)\n",
    "\n",
    "#network architecture\n",
    "layer_size = [1] + [100] * 3 + [1]\n",
    "activation = \"tanh\"\n",
    "initializer = \"Glorot uniform\"\n",
    "net = dde.nn.FNN(layer_size, activation, initializer)"
   ]
  },
  {
   "cell_type": "code",
   "execution_count": null,
   "id": "14a43e96",
   "metadata": {},
   "outputs": [],
   "source": [
    "#compile model, train network\n",
    "model = dde.Model(data, net)\n",
    "model.compile(\"adam\", lr=0.001, metrics=[\"l2 relative error\"])\n",
    "losshistory, train_state = model.train(iterations=10000)\n",
    "\n",
    "dde.saveplot(losshistory, train_state, issave=True, isplot=True)"
   ]
  }
 ],
 "metadata": {
  "kernelspec": {
   "display_name": "Python 3 (ipykernel)",
   "language": "python",
   "name": "python3"
  },
  "language_info": {
   "codemirror_mode": {
    "name": "ipython",
    "version": 3
   },
   "file_extension": ".py",
   "mimetype": "text/x-python",
   "name": "python",
   "nbconvert_exporter": "python",
   "pygments_lexer": "ipython3",
   "version": "3.9.13"
  }
 },
 "nbformat": 4,
 "nbformat_minor": 5
}
