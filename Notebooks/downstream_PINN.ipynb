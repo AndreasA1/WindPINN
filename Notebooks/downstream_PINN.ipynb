{
 "cells": [
  {
   "cell_type": "markdown",
   "id": "19a678da",
   "metadata": {},
   "source": [
    "PINN to predict downstream flow"
   ]
  },
  {
   "cell_type": "code",
   "execution_count": 1,
   "id": "15ecfe3a",
   "metadata": {},
   "outputs": [
    {
     "name": "stderr",
     "output_type": "stream",
     "text": [
      "Using backend: pytorch\n",
      "\n"
     ]
    }
   ],
   "source": [
    "# libraries\n",
    "import numpy as np\n",
    "import deepxde as dde\n",
    "import os\n",
    "import torch"
   ]
  },
  {
   "cell_type": "code",
   "execution_count": 2,
   "id": "a553631b",
   "metadata": {},
   "outputs": [
    {
     "name": "stdout",
     "output_type": "stream",
     "text": [
      "(4096, 32, 32)\n"
     ]
    }
   ],
   "source": [
    "# import data reading functions\n",
    "from convert_bin import read_bin, plot_v_fields\n",
    "\n",
    "# take in data, splot into training and testing\n",
    "# all of these are Nx by Ny by Nz\n",
    "data_u, data_v, data_w = read_bin()\n",
    "\n",
    "data_u = data_u.astype(np.single)\n",
    "data_v = data_v.astype(np.single)\n",
    "data_w = data_w.astype(np.single)\n",
    "print(np.shape(data_u))\n",
    "\n",
    "Nx, Ny, Nz = np.shape(data_u)[0], np.shape(data_u)[1], np.shape(data_u)[2]"
   ]
  },
  {
   "cell_type": "code",
   "execution_count": 14,
   "id": "5454c7ac",
   "metadata": {},
   "outputs": [],
   "source": [
    "# split data up\n",
    "# let's just use u velocities for now\n",
    "u_in_train = data_u[0:1000, :, :]\n",
    "u_out_train = data_u[1:1001, :, :]\n",
    "\n",
    "u_in_test = data_u[4000:-1, :, :]\n",
    "u_out_test = data_u[4001:, :, :]\n",
    "\n",
    "# x y and z coordinates\n",
    "# x coordinates not really important, might be nice for visualization later on\n",
    "# these need to be rescaled based on simulation information\n",
    "x = np.linspace(0, 1000, Nx)\n",
    "y = np.linspace(-1, 1, Ny, dtype=np.single)\n",
    "z = np.linspace(-1, 1, Nz, dtype=np.single)\n",
    "\n",
    "Y, Z = np.meshgrid(y, z)\n",
    "\n",
    "coords = np.concatenate((np.reshape(Y, (int(Ny*Nz),1)), np.reshape(Z, (int(Nz*Ny),1))), 1)\n",
    "# print(coords)\n",
    "\n",
    "u_in_train = np.reshape(u_in_train, (1000, 1, 32, 32))\n",
    "u_in_test = np.reshape(u_in_test, (95, 1, 32, 32))\n",
    "u_out_train = np.reshape(u_out_train, (1000, Ny*Nz))\n",
    "u_out_test = np.reshape(u_out_test, (95, Ny*Nz))\n",
    "\n",
    "X_train = (u_in_train, coords)\n",
    "X_test = (u_in_test, coords)\n",
    "# X-train sizes: \n",
    "\n",
    "data = dde.data.TripleCartesianProd(\n",
    "    X_train=X_train, y_train=u_out_train, X_test=X_test, y_test=u_out_test)\n"
   ]
  },
  {
   "cell_type": "code",
   "execution_count": 15,
   "id": "b25c3bdd",
   "metadata": {},
   "outputs": [
    {
     "name": "stdout",
     "output_type": "stream",
     "text": [
      "95\n",
      "1024\n",
      "1024000\n"
     ]
    }
   ],
   "source": [
    "print(len(X_test[0]))\n",
    "print(len(X_test[1]))\n",
    "print(np.size(u_out_train))"
   ]
  },
  {
   "cell_type": "code",
   "execution_count": 16,
   "id": "c9aba6a4",
   "metadata": {},
   "outputs": [
    {
     "name": "stdout",
     "output_type": "stream",
     "text": [
      "(1000, 1024)\n"
     ]
    }
   ],
   "source": [
    "print(np.shape(u_out_train))"
   ]
  },
  {
   "cell_type": "code",
   "execution_count": 17,
   "id": "6665aaf8",
   "metadata": {},
   "outputs": [],
   "source": [
    "#some visualization, can probably make this prettier\n",
    "# plot_v_fields(data_u, u_in_train, u_out_train, 20)"
   ]
  },
  {
   "cell_type": "code",
   "execution_count": 18,
   "id": "022456bf",
   "metadata": {},
   "outputs": [],
   "source": [
    "# PDE to learn: NS equations\n",
    "def pde(x, y):\n",
    "\n",
    "    return lhs - rhs\n",
    "\n",
    "# no regular boundary or initial conditions\n",
    "# apply data as point set BC\n",
    "\n"
   ]
  },
  {
   "cell_type": "code",
   "execution_count": 19,
   "id": "75bda683",
   "metadata": {},
   "outputs": [],
   "source": [
    "# convolution network class\n",
    "class ConvNN(torch.nn.Module):\n",
    "    def __init__(self):\n",
    "        super().__init__()\n",
    "        #add more layers\n",
    "        self.conv1 = torch.nn.Conv2d(in_channels=1, out_channels=8, kernel_size=5, stride=1, padding=2)\n",
    "        self.conv2 = torch.nn.Conv2d(in_channels=8, out_channels=8, kernel_size=5, stride=2, padding=1)\n",
    "        self.pool1 = torch.nn.MaxPool2d(kernel_size = 3)\n",
    "        \n",
    "#         self.conv3 = torch.nn.Conv2d(in_channels=16, out_channels=16, kernel_size=3, stride=1, padding=1)\n",
    "#         self.pool2 = torch.nn.MaxPool2d(kernel_size = 2)\n",
    "        \n",
    "        self.linear = torch.nn.Sequential(\n",
    "                        torch.nn.Linear(400, 100),\n",
    "                        torch.nn.ReLU(),\n",
    "                        torch.nn.Linear(100, 20)\n",
    "        )\n",
    "        \n",
    "        \n",
    "        self.logsoftmax = torch.nn.LogSoftmax(dim=1)\n",
    "\n",
    "    def forward(self, x):\n",
    "        x = self.conv1(x)\n",
    "        x = self.conv2(x)\n",
    "        x = self.pool1(x)\n",
    "        \n",
    "#         x = self.conv3(x)\n",
    "#         x = self.pool2(x)\n",
    "        \n",
    "        #flatten\n",
    "        x = x.view(x.shape[0], x.shape[1]*x.shape[2]*x.shape[3])\n",
    "        x = self.linear(x)\n",
    "\n",
    "        x = self.logsoftmax(x)\n",
    "\n",
    "        return x"
   ]
  },
  {
   "cell_type": "code",
   "execution_count": 20,
   "id": "da8f9685",
   "metadata": {},
   "outputs": [],
   "source": [
    "# setup deepONet\n",
    "\n",
    "m = 2\n",
    "dim_x = 2\n",
    "\n",
    "cnn = ConvNN()\n",
    "\n",
    "net = dde.nn.DeepONetCartesianProd(\n",
    "    [m, cnn],\n",
    "    [dim_x, 20, 20],\n",
    "    \"relu\",\n",
    "    \"Glorot normal\",\n",
    ")"
   ]
  },
  {
   "cell_type": "code",
   "execution_count": 22,
   "id": "14a43e96",
   "metadata": {},
   "outputs": [
    {
     "name": "stdout",
     "output_type": "stream",
     "text": [
      "Compiling model...\n",
      "'compile' took 0.000375 s\n",
      "\n",
      "Training model...\n",
      "\n",
      "0         [7.93e+17]    [8.52e+17]    [8.61e-01]    \n",
      "100       [7.93e+17]    [8.39e+17]    [8.54e-01]    \n",
      "\n",
      "Best model at step 100:\n",
      "  train loss: 7.93e+17\n",
      "  test loss: 8.39e+17\n",
      "  test metric: [8.54e-01]\n",
      "\n",
      "'train' took 20.852264 s\n",
      "\n",
      "Saving loss history to /home/andreas/meam_6010/FinalProject/WindPINN/Notebooks/loss.dat ...\n",
      "Error: The network has multiple inputs, and saving such result han't been implemented.\n",
      "Error: The network has multiple inputs, and plotting such result han't been implemented.\n"
     ]
    },
    {
     "data": {
      "image/png": "[encoded data removed]",
      "text/plain": [
       "<Figure size 640x480 with 1 Axes>"
      ]
     },
     "metadata": {},
     "output_type": "display_data"
    }
   ],
   "source": [
    "#compile model, train network\n",
    "model = dde.Model(data, net)\n",
    "model.compile(\"adam\", lr=0.001, metrics=[\"l2 relative error\"])\n",
    "losshistory, train_state = model.train(iterations=100)\n",
    "\n",
    "dde.saveplot(losshistory, train_state, issave=True, isplot=True)"
   ]
  },
  {
   "cell_type": "code",
   "execution_count": null,
   "id": "4d99064f",
   "metadata": {},
   "outputs": [],
   "source": []
  }
 ],
 "metadata": {
  "kernelspec": {
   "display_name": "Python 3 (ipykernel)",
   "language": "python",
   "name": "python3"
  },
  "language_info": {
   "codemirror_mode": {
    "name": "ipython",
    "version": 3
   },
   "file_extension": ".py",
   "mimetype": "text/x-python",
   "name": "python",
   "nbconvert_exporter": "python",
   "pygments_lexer": "ipython3",
   "version": "3.9.13"
  }
 },
 "nbformat": 4,
 "nbformat_minor": 5
}
